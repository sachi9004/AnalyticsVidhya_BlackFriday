{
  "nbformat": 4,
  "nbformat_minor": 0,
  "metadata": {
    "colab": {
      "name": "Video_Analytics final sample(for ref).ipynb",
      "provenance": [],
      "toc_visible": true,
      "mount_file_id": "105ya8uA8pnWIRrZA5sLRpOqMN_LUN3la",
      "authorship_tag": "ABX9TyN39PHu/qplLkHqZxK7wEdq",
      "include_colab_link": true
    },
    "kernelspec": {
      "name": "python3",
      "display_name": "Python 3"
    },
    "accelerator": "GPU"
  },
  "cells": [
    {
      "cell_type": "markdown",
      "metadata": {
        "id": "view-in-github",
        "colab_type": "text"
      },
      "source": [
        "<a href=\"https://colab.research.google.com/github/sachi9004/AnalyticsVidhya_BlackFriday/blob/master/Video_Analytics_final_sample(for_ref).ipynb\" target=\"_parent\"><img src=\"https://colab.research.google.com/assets/colab-badge.svg\" alt=\"Open In Colab\"/></a>"
      ]
    },
    {
      "cell_type": "code",
      "metadata": {
        "id": "uZ3nCB9v-EoS",
        "colab_type": "code",
        "colab": {}
      },
      "source": [
        "import cv2     # for capturing videos\n",
        "import math   # for mathematical operations\n",
        "import matplotlib.pyplot as plt    # for plotting the images\n",
        "%matplotlib inline\n",
        "import pandas as pd\n",
        "from keras.preprocessing import image   # for preprocessing the images\n",
        "import numpy as np    # for mathematical operations\n",
        "from keras.utils import np_utils\n",
        "from skimage.transform import resize   # for resizing images"
      ],
      "execution_count": 0,
      "outputs": []
    },
    {
      "cell_type": "code",
      "metadata": {
        "id": "7f94BDp9BgTy",
        "colab_type": "code",
        "colab": {
          "base_uri": "https://localhost:8080/",
          "height": 170
        },
        "outputId": "f8f6fa16-fe8b-410e-c31d-1d820195ad3e"
      },
      "source": [
        "import zipfile\n",
        "\n",
        "def main():\n",
        "\n",
        "    # assigning filename to a variable\n",
        "    file_name = '/content/drive/My Drive/Hackathons/Earthackers/96714c94-6-Dataset.zip'\n",
        "\n",
        "    # opening Zip using 'with' keyword in read mode\n",
        "    with zipfile.ZipFile(file_name, 'r') as file:\n",
        "        # printing all the information of archive file contents using 'printdir' method\n",
        "        print(file.printdir())\n",
        "\n",
        "        # extracting the files using 'extracall' method\n",
        "        print('Extracting all files...')\n",
        "        file.extractall()\n",
        "        print('Done!') # check your directory of zip file to see the extracted files\n",
        "\n",
        "if __name__ == '__main__': main()"
      ],
      "execution_count": 3,
      "outputs": [
        {
          "output_type": "stream",
          "text": [
            "File Name                                             Modified             Size\n",
            "Dataset/                                       2020-03-16 18:31:10            0\n",
            "Dataset/Test Tom and Jerry.mp4                 2020-03-12 07:48:34     21682364\n",
            "Dataset/Test.csv                               2020-03-16 18:31:24         2130\n",
            "Dataset/Train Tom and jerry.mp4                2020-03-12 07:28:58     25644389\n",
            "Dataset/Train.csv                              2020-03-16 18:25:24         5992\n",
            "None\n",
            "Extracting all files...\n",
            "Done!\n"
          ],
          "name": "stdout"
        }
      ]
    },
    {
      "cell_type": "code",
      "metadata": {
        "id": "3VySvqQsER6j",
        "colab_type": "code",
        "colab": {
          "base_uri": "https://localhost:8080/",
          "height": 34
        },
        "outputId": "bca15dd9-4748-47c7-be02-a01ce5d6458b"
      },
      "source": [
        "count = 0\n",
        "videoFile = \"/content/Dataset/Train Tom and jerry.mp4\"\n",
        "cap = cv2.VideoCapture(videoFile)   # capturing the video from the given path\n",
        "frameRate = cap.get(5) #frame rate\n",
        "x=1\n",
        "while(cap.isOpened()):\n",
        "    frameId = cap.get(1) #current frame number\n",
        "    ret, frame = cap.read()\n",
        "    if (ret != True):\n",
        "        break\n",
        "    if (frameId % math.floor(frameRate) == 0):\n",
        "        filename =\"frame%d.jpg\" % count;count+=1\n",
        "        cv2.imwrite(filename, frame)\n",
        "cap.release()\n",
        "print (\"Done!\")"
      ],
      "execution_count": 4,
      "outputs": [
        {
          "output_type": "stream",
          "text": [
            "Done!\n"
          ],
          "name": "stdout"
        }
      ]
    },
    {
      "cell_type": "markdown",
      "metadata": {
        "id": "klA09ZBbFvlW",
        "colab_type": "text"
      },
      "source": [
        "Let us try to visualize an image (frame). We will first read the image using the imread() function of matplotlib, and then plot it using the imshow() function."
      ]
    },
    {
      "cell_type": "code",
      "metadata": {
        "id": "3ztj3ddoFygB",
        "colab_type": "code",
        "colab": {
          "base_uri": "https://localhost:8080/",
          "height": 257
        },
        "outputId": "9492b325-54fa-4b9e-eaf2-37ac0eafe3a5"
      },
      "source": [
        "img = plt.imread('frame0.jpg')   # reading image using its name\n",
        "plt.imshow(img)"
      ],
      "execution_count": 5,
      "outputs": [
        {
          "output_type": "execute_result",
          "data": {
            "text/plain": [
              "<matplotlib.image.AxesImage at 0x7f77f2598160>"
            ]
          },
          "metadata": {
            "tags": []
          },
          "execution_count": 5
        },
        {
          "output_type": "display_data",
          "data": {
            "image/png": "[encoded data removed]",
            "text/plain": [
              "<Figure size 432x288 with 1 Axes>"
            ]
          },
          "metadata": {
            "tags": []
          }
        }
      ]
    },
    {
      "cell_type": "code",
      "metadata": {
        "id": "FcbZCRzYHtrd",
        "colab_type": "code",
        "colab": {
          "base_uri": "https://localhost:8080/",
          "height": 204
        },
        "outputId": "9a6b4ea7-7129-47f6-b476-6fd45b729f40"
      },
      "source": [
        "data=pd.read_csv('/content/Dataset/mapping.csv')\n",
        "data.head()"
      ],
      "execution_count": 6,
      "outputs": [
        {
          "output_type": "execute_result",
          "data": {
            "text/html": [
              "<div>\n",
              "<style scoped>\n",
              "    .dataframe tbody tr th:only-of-type {\n",
              "        vertical-align: middle;\n",
              "    }\n",
              "\n",
              "    .dataframe tbody tr th {\n",
              "        vertical-align: top;\n",
              "    }\n",
              "\n",
              "    .dataframe thead th {\n",
              "        text-align: right;\n",
              "    }\n",
              "</style>\n",
              "<table border=\"1\" class=\"dataframe\">\n",
              "  <thead>\n",
              "    <tr style=\"text-align: right;\">\n",
              "      <th></th>\n",
              "      <th>Image_ID</th>\n",
              "      <th>Class</th>\n",
              "    </tr>\n",
              "  </thead>\n",
              "  <tbody>\n",
              "    <tr>\n",
              "      <th>0</th>\n",
              "      <td>frame0.jpg</td>\n",
              "      <td>1</td>\n",
              "    </tr>\n",
              "    <tr>\n",
              "      <th>1</th>\n",
              "      <td>frame1.jpg</td>\n",
              "      <td>1</td>\n",
              "    </tr>\n",
              "    <tr>\n",
              "      <th>2</th>\n",
              "      <td>frame2.jpg</td>\n",
              "      <td>2</td>\n",
              "    </tr>\n",
              "    <tr>\n",
              "      <th>3</th>\n",
              "      <td>frame3.jpg</td>\n",
              "      <td>2</td>\n",
              "    </tr>\n",
              "    <tr>\n",
              "      <th>4</th>\n",
              "      <td>frame4.jpg</td>\n",
              "      <td>2</td>\n",
              "    </tr>\n",
              "  </tbody>\n",
              "</table>\n",
              "</div>"
            ],
            "text/plain": [
              "     Image_ID  Class\n",
              "0  frame0.jpg      1\n",
              "1  frame1.jpg      1\n",
              "2  frame2.jpg      2\n",
              "3  frame3.jpg      2\n",
              "4  frame4.jpg      2"
            ]
          },
          "metadata": {
            "tags": []
          },
          "execution_count": 6
        }
      ]
    },
    {
      "cell_type": "markdown",
      "metadata": {
        "id": "mxIB9Pe5Lz8f",
        "colab_type": "text"
      },
      "source": [
        "Our next step is to read the images which we will do based on their names, aka, the Image_ID column.\n",
        "\n"
      ]
    },
    {
      "cell_type": "code",
      "metadata": {
        "id": "pE63pLQoLyCt",
        "colab_type": "code",
        "colab": {}
      },
      "source": [
        "X = [ ]     # creating an empty array\n",
        "for img_name in data.Image_ID:\n",
        "    img = plt.imread('' + img_name)\n",
        "    X.append(img)  # storing each image in array X\n",
        "X = np.array(X)    # converting list to array"
      ],
      "execution_count": 0,
      "outputs": []
    },
    {
      "cell_type": "markdown",
      "metadata": {
        "id": "gdrCfTXsP7IS",
        "colab_type": "text"
      },
      "source": [
        "Since there are three classes, we will one hot encode them using the to_categorical() function of keras.utils."
      ]
    },
    {
      "cell_type": "code",
      "metadata": {
        "id": "xHe982XKP8-8",
        "colab_type": "code",
        "colab": {}
      },
      "source": [
        "y = data.Class\n",
        "dummy_y = np_utils.to_categorical(y)    # one hot encoding Classes"
      ],
      "execution_count": 0,
      "outputs": []
    },
    {
      "cell_type": "markdown",
      "metadata": {
        "id": "TaXADr6cQURN",
        "colab_type": "text"
      },
      "source": [
        "We will be using a VGG16 pretrained model which takes an input image of shape (224 X 224 X 3). Since our images are in a different size, we need to reshape all of them. We will use the resize() function of skimage.transform to do this"
      ]
    },
    {
      "cell_type": "code",
      "metadata": {
        "id": "qo8smReKQZrw",
        "colab_type": "code",
        "colab": {}
      },
      "source": [
        "image = []\n",
        "for i in range(0,X.shape[0]):\n",
        "    a = resize(X[i], preserve_range=True, output_shape=(224,224)).astype(int)      # reshaping to 224*224*3\n",
        "    image.append(a)\n",
        "X = np.array(image)"
      ],
      "execution_count": 0,
      "outputs": []
    },
    {
      "cell_type": "markdown",
      "metadata": {
        "id": "W9pOZhW0Rm4V",
        "colab_type": "text"
      },
      "source": [
        "All the images have been reshaped to 224 X 224 X 3. But before passing any input to the model, we must preprocess it as per the model’s requirement. Otherwise, the model will not perform well enough. Use the preprocess_input() function of keras.applications.vgg16 to perform this step."
      ]
    },
    {
      "cell_type": "code",
      "metadata": {
        "id": "c0HtQqlVRmdA",
        "colab_type": "code",
        "colab": {}
      },
      "source": [
        "from keras.applications.vgg16 import preprocess_input\n",
        "X = preprocess_input(X, mode='tf')      # preprocessing the input data"
      ],
      "execution_count": 0,
      "outputs": []
    },
    {
      "cell_type": "markdown",
      "metadata": {
        "id": "Eqtav69OR4iI",
        "colab_type": "text"
      },
      "source": [
        "We also need a validation set to check the performance of the model on unseen images. We will make use of the train_test_split() function of the sklearn.model_selection module to randomly divide images into training and validation set."
      ]
    },
    {
      "cell_type": "code",
      "metadata": {
        "id": "mRqTbw7XR8fr",
        "colab_type": "code",
        "colab": {}
      },
      "source": [
        "from sklearn.model_selection import train_test_split\n",
        "X_train, X_valid, y_train, y_valid = train_test_split(X, dummy_y, test_size=0.3, random_state=42)    # preparing the validation set"
      ],
      "execution_count": 0,
      "outputs": []
    },
    {
      "cell_type": "markdown",
      "metadata": {
        "id": "P_ZMP5XwSKuV",
        "colab_type": "text"
      },
      "source": [
        "Step 3: Building the model\n",
        "The next step is to build our model. As mentioned, we shall be using the VGG16 pretrained model for this task. Let us first import the required libraries to build the model:"
      ]
    },
    {
      "cell_type": "code",
      "metadata": {
        "id": "B6SWf3dsSM6o",
        "colab_type": "code",
        "colab": {}
      },
      "source": [
        "from keras.models import Sequential\n",
        "from keras.applications.vgg16 import VGG16\n",
        "from keras.layers import Dense, InputLayer, Dropout"
      ],
      "execution_count": 0,
      "outputs": []
    },
    {
      "cell_type": "markdown",
      "metadata": {
        "id": "HI2Q8-w-SVAX",
        "colab_type": "text"
      },
      "source": [
        "We will now load the VGG16 pretrained model and store it as base_model:"
      ]
    },
    {
      "cell_type": "code",
      "metadata": {
        "id": "b2VXTD-pSWpo",
        "colab_type": "code",
        "colab": {
          "base_uri": "https://localhost:8080/",
          "height": 411
        },
        "outputId": "3101f00c-f3e0-4f47-e717-64d0971011a4"
      },
      "source": [
        "base_model = VGG16(weights='imagenet', include_top=False, input_shape=(224, 224, 3))    # include_top=False to remove the top layer"
      ],
      "execution_count": 13,
      "outputs": [
        {
          "output_type": "stream",
          "text": [
            "WARNING:tensorflow:From /usr/local/lib/python3.6/dist-packages/keras/backend/tensorflow_backend.py:66: The name tf.get_default_graph is deprecated. Please use tf.compat.v1.get_default_graph instead.\n",
            "\n",
            "WARNING:tensorflow:From /usr/local/lib/python3.6/dist-packages/keras/backend/tensorflow_backend.py:541: The name tf.placeholder is deprecated. Please use tf.compat.v1.placeholder instead.\n",
            "\n",
            "WARNING:tensorflow:From /usr/local/lib/python3.6/dist-packages/keras/backend/tensorflow_backend.py:4432: The name tf.random_uniform is deprecated. Please use tf.random.uniform instead.\n",
            "\n",
            "WARNING:tensorflow:From /usr/local/lib/python3.6/dist-packages/keras/backend/tensorflow_backend.py:4267: The name tf.nn.max_pool is deprecated. Please use tf.nn.max_pool2d instead.\n",
            "\n",
            "Downloading data from https://github.com/fchollet/deep-learning-models/releases/download/v0.1/vgg16_weights_tf_dim_ordering_tf_kernels_notop.h5\n",
            "58892288/58889256 [==============================] - 2s 0us/step\n",
            "WARNING:tensorflow:From /usr/local/lib/python3.6/dist-packages/keras/backend/tensorflow_backend.py:190: The name tf.get_default_session is deprecated. Please use tf.compat.v1.get_default_session instead.\n",
            "\n",
            "WARNING:tensorflow:From /usr/local/lib/python3.6/dist-packages/keras/backend/tensorflow_backend.py:197: The name tf.ConfigProto is deprecated. Please use tf.compat.v1.ConfigProto instead.\n",
            "\n",
            "WARNING:tensorflow:From /usr/local/lib/python3.6/dist-packages/keras/backend/tensorflow_backend.py:203: The name tf.Session is deprecated. Please use tf.compat.v1.Session instead.\n",
            "\n",
            "WARNING:tensorflow:From /usr/local/lib/python3.6/dist-packages/keras/backend/tensorflow_backend.py:207: The name tf.global_variables is deprecated. Please use tf.compat.v1.global_variables instead.\n",
            "\n",
            "WARNING:tensorflow:From /usr/local/lib/python3.6/dist-packages/keras/backend/tensorflow_backend.py:216: The name tf.is_variable_initialized is deprecated. Please use tf.compat.v1.is_variable_initialized instead.\n",
            "\n",
            "WARNING:tensorflow:From /usr/local/lib/python3.6/dist-packages/keras/backend/tensorflow_backend.py:223: The name tf.variables_initializer is deprecated. Please use tf.compat.v1.variables_initializer instead.\n",
            "\n"
          ],
          "name": "stdout"
        }
      ]
    },
    {
      "cell_type": "markdown",
      "metadata": {
        "id": "7_tjOSUeSa5-",
        "colab_type": "text"
      },
      "source": [
        "We will make predictions using this model for X_train and X_valid, get the features, and then use those features to retrain the model."
      ]
    },
    {
      "cell_type": "code",
      "metadata": {
        "id": "0dFYmHF8SfGm",
        "colab_type": "code",
        "colab": {
          "base_uri": "https://localhost:8080/",
          "height": 34
        },
        "outputId": "56050552-4a65-44ca-875f-226548fb4093"
      },
      "source": [
        "X_train = base_model.predict(X_train)\n",
        "X_valid = base_model.predict(X_valid)\n",
        "X_train.shape, X_valid.shape"
      ],
      "execution_count": 14,
      "outputs": [
        {
          "output_type": "execute_result",
          "data": {
            "text/plain": [
              "((208, 7, 7, 512), (90, 7, 7, 512))"
            ]
          },
          "metadata": {
            "tags": []
          },
          "execution_count": 14
        }
      ]
    },
    {
      "cell_type": "markdown",
      "metadata": {
        "id": "qT4Rc8L0TYsC",
        "colab_type": "text"
      },
      "source": [
        "The shape of X_train and X_valid is (208, 7, 7, 512), (90, 7, 7, 512) respectively. In order to pass it to our neural network, we have to reshape it to 1-D."
      ]
    },
    {
      "cell_type": "code",
      "metadata": {
        "id": "ocq2OmSRTcsi",
        "colab_type": "code",
        "colab": {}
      },
      "source": [
        "X_train = X_train.reshape(208, 7*7*512)      # converting to 1-D\n",
        "X_valid = X_valid.reshape(90, 7*7*512)"
      ],
      "execution_count": 0,
      "outputs": []
    },
    {
      "cell_type": "markdown",
      "metadata": {
        "id": "e1H-rNGwUiI9",
        "colab_type": "text"
      },
      "source": [
        "We will now preprocess the images and make them zero-centered which helps the model to converge faster."
      ]
    },
    {
      "cell_type": "code",
      "metadata": {
        "id": "DfCjoWpoUnEz",
        "colab_type": "code",
        "colab": {}
      },
      "source": [
        "train = X_train/X_train.max()      # centering the data\n",
        "X_valid = X_valid/X_train.max()"
      ],
      "execution_count": 0,
      "outputs": []
    },
    {
      "cell_type": "markdown",
      "metadata": {
        "id": "fvZ0RIX2UtN3",
        "colab_type": "text"
      },
      "source": [
        "Finally, we will build our model. This step can be divided into 3 sub-steps:\n",
        "\n",
        "Building the model\n",
        "Compiling the model\n",
        "Training the model"
      ]
    },
    {
      "cell_type": "code",
      "metadata": {
        "id": "xGX8GJ6RUu5_",
        "colab_type": "code",
        "colab": {}
      },
      "source": [
        "# i. Building the model\n",
        "model = Sequential()\n",
        "model.add(InputLayer((7*7*512,)))    # input layer\n",
        "model.add(Dense(units=1024, activation='sigmoid')) # hidden layer\n",
        "model.add(Dense(3, activation='softmax'))    # output layer"
      ],
      "execution_count": 0,
      "outputs": []
    },
    {
      "cell_type": "markdown",
      "metadata": {
        "id": "7cOwxW3YVD38",
        "colab_type": "text"
      },
      "source": [
        "Let’s check the summary of the model using the summary() function:"
      ]
    },
    {
      "cell_type": "code",
      "metadata": {
        "id": "VOVOOCyPVFIj",
        "colab_type": "code",
        "colab": {
          "base_uri": "https://localhost:8080/",
          "height": 221
        },
        "outputId": "a95b7d88-fc63-45eb-cd2f-7df088d42e58"
      },
      "source": [
        "model.summary()"
      ],
      "execution_count": 18,
      "outputs": [
        {
          "output_type": "stream",
          "text": [
            "Model: \"sequential_1\"\n",
            "_________________________________________________________________\n",
            "Layer (type)                 Output Shape              Param #   \n",
            "=================================================================\n",
            "dense_1 (Dense)              (None, 1024)              25691136  \n",
            "_________________________________________________________________\n",
            "dense_2 (Dense)              (None, 3)                 3075      \n",
            "=================================================================\n",
            "Total params: 25,694,211\n",
            "Trainable params: 25,694,211\n",
            "Non-trainable params: 0\n",
            "_________________________________________________________________\n"
          ],
          "name": "stdout"
        }
      ]
    },
    {
      "cell_type": "markdown",
      "metadata": {
        "id": "sBmZz0obVV04",
        "colab_type": "text"
      },
      "source": [
        "We have a hidden layer with 1,024 neurons and an output layer with 3 neurons (since we have 3 classes to predict). Now we will compile our model:"
      ]
    },
    {
      "cell_type": "code",
      "metadata": {
        "id": "sl907H5LVXJb",
        "colab_type": "code",
        "colab": {
          "base_uri": "https://localhost:8080/",
          "height": 105
        },
        "outputId": "8b178f1f-bc96-40cb-bd0d-1ef97cfbc679"
      },
      "source": [
        "# ii. Compiling the model\n",
        "model.compile(loss='categorical_crossentropy', optimizer='adam', metrics=['accuracy'])"
      ],
      "execution_count": 19,
      "outputs": [
        {
          "output_type": "stream",
          "text": [
            "WARNING:tensorflow:From /usr/local/lib/python3.6/dist-packages/keras/optimizers.py:793: The name tf.train.Optimizer is deprecated. Please use tf.compat.v1.train.Optimizer instead.\n",
            "\n",
            "WARNING:tensorflow:From /usr/local/lib/python3.6/dist-packages/keras/backend/tensorflow_backend.py:3576: The name tf.log is deprecated. Please use tf.math.log instead.\n",
            "\n"
          ],
          "name": "stdout"
        }
      ]
    },
    {
      "cell_type": "markdown",
      "metadata": {
        "id": "5_QOpAmzVfoH",
        "colab_type": "text"
      },
      "source": [
        "In the final step, we will fit the model and simultaneously also check its performance on the unseen images, i.e., validation images:"
      ]
    },
    {
      "cell_type": "code",
      "metadata": {
        "id": "01o4mv5UVfJZ",
        "colab_type": "code",
        "colab": {
          "base_uri": "https://localhost:8080/",
          "height": 1000
        },
        "outputId": "51e6b38b-746b-41c4-8125-360656acef54"
      },
      "source": [
        "# iii. Training the model\n",
        "model.fit(train, y_train, epochs=100, validation_data=(X_valid, y_valid))"
      ],
      "execution_count": 20,
      "outputs": [
        {
          "output_type": "stream",
          "text": [
            "WARNING:tensorflow:From /tensorflow-1.15.0/python3.6/tensorflow_core/python/ops/math_grad.py:1424: where (from tensorflow.python.ops.array_ops) is deprecated and will be removed in a future version.\n",
            "Instructions for updating:\n",
            "Use tf.where in 2.0, which has the same broadcast rule as np.where\n",
            "WARNING:tensorflow:From /usr/local/lib/python3.6/dist-packages/keras/backend/tensorflow_backend.py:1033: The name tf.assign_add is deprecated. Please use tf.compat.v1.assign_add instead.\n",
            "\n",
            "WARNING:tensorflow:From /usr/local/lib/python3.6/dist-packages/keras/backend/tensorflow_backend.py:1020: The name tf.assign is deprecated. Please use tf.compat.v1.assign instead.\n",
            "\n",
            "Train on 208 samples, validate on 90 samples\n",
            "Epoch 1/100\n",
            "208/208 [==============================] - 1s 4ms/step - loss: 1.0821 - acc: 0.5721 - val_loss: 1.2584 - val_acc: 0.4333\n",
            "Epoch 2/100\n",
            "208/208 [==============================] - 0s 470us/step - loss: 0.5391 - acc: 0.7596 - val_loss: 0.7540 - val_acc: 0.6889\n",
            "Epoch 3/100\n",
            "208/208 [==============================] - 0s 462us/step - loss: 0.2968 - acc: 0.8798 - val_loss: 0.5734 - val_acc: 0.7333\n",
            "Epoch 4/100\n",
            "208/208 [==============================] - 0s 471us/step - loss: 0.1733 - acc: 0.9471 - val_loss: 0.3927 - val_acc: 0.8333\n",
            "Epoch 5/100\n",
            "208/208 [==============================] - 0s 461us/step - loss: 0.0880 - acc: 0.9808 - val_loss: 0.3954 - val_acc: 0.8222\n",
            "Epoch 6/100\n",
            "208/208 [==============================] - 0s 482us/step - loss: 0.0592 - acc: 0.9952 - val_loss: 0.3546 - val_acc: 0.8333\n",
            "Epoch 7/100\n",
            "208/208 [==============================] - 0s 465us/step - loss: 0.0424 - acc: 0.9904 - val_loss: 0.3298 - val_acc: 0.8556\n",
            "Epoch 8/100\n",
            "208/208 [==============================] - 0s 453us/step - loss: 0.0360 - acc: 0.9952 - val_loss: 0.3966 - val_acc: 0.8444\n",
            "Epoch 9/100\n",
            "208/208 [==============================] - 0s 452us/step - loss: 0.0318 - acc: 0.9952 - val_loss: 0.3243 - val_acc: 0.8556\n",
            "Epoch 10/100\n",
            "208/208 [==============================] - 0s 458us/step - loss: 0.0274 - acc: 0.9952 - val_loss: 0.3269 - val_acc: 0.8444\n",
            "Epoch 11/100\n",
            "208/208 [==============================] - 0s 454us/step - loss: 0.0245 - acc: 0.9904 - val_loss: 0.3326 - val_acc: 0.8444\n",
            "Epoch 12/100\n",
            "208/208 [==============================] - 0s 477us/step - loss: 0.0208 - acc: 0.9952 - val_loss: 0.3131 - val_acc: 0.8556\n",
            "Epoch 13/100\n",
            "208/208 [==============================] - 0s 467us/step - loss: 0.0210 - acc: 0.9952 - val_loss: 0.3293 - val_acc: 0.8444\n",
            "Epoch 14/100\n",
            "208/208 [==============================] - 0s 485us/step - loss: 0.0244 - acc: 0.9904 - val_loss: 0.3499 - val_acc: 0.8333\n",
            "Epoch 15/100\n",
            "208/208 [==============================] - 0s 479us/step - loss: 0.0160 - acc: 1.0000 - val_loss: 0.3050 - val_acc: 0.8889\n",
            "Epoch 16/100\n",
            "208/208 [==============================] - 0s 453us/step - loss: 0.0279 - acc: 0.9952 - val_loss: 0.3382 - val_acc: 0.8444\n",
            "Epoch 17/100\n",
            "208/208 [==============================] - 0s 491us/step - loss: 0.0190 - acc: 0.9952 - val_loss: 0.3534 - val_acc: 0.8444\n",
            "Epoch 18/100\n",
            "208/208 [==============================] - 0s 449us/step - loss: 0.0160 - acc: 0.9952 - val_loss: 0.3558 - val_acc: 0.8333\n",
            "Epoch 19/100\n",
            "208/208 [==============================] - 0s 457us/step - loss: 0.0165 - acc: 0.9952 - val_loss: 0.3262 - val_acc: 0.8556\n",
            "Epoch 20/100\n",
            "208/208 [==============================] - 0s 451us/step - loss: 0.0171 - acc: 0.9904 - val_loss: 0.3151 - val_acc: 0.8778\n",
            "Epoch 21/100\n",
            "208/208 [==============================] - 0s 451us/step - loss: 0.0144 - acc: 0.9952 - val_loss: 0.3643 - val_acc: 0.8333\n",
            "Epoch 22/100\n",
            "208/208 [==============================] - 0s 458us/step - loss: 0.0178 - acc: 0.9952 - val_loss: 0.3383 - val_acc: 0.8333\n",
            "Epoch 23/100\n",
            "208/208 [==============================] - 0s 450us/step - loss: 0.0152 - acc: 0.9952 - val_loss: 0.3169 - val_acc: 0.8667\n",
            "Epoch 24/100\n",
            "208/208 [==============================] - 0s 443us/step - loss: 0.0127 - acc: 0.9952 - val_loss: 0.3539 - val_acc: 0.8333\n",
            "Epoch 25/100\n",
            "208/208 [==============================] - 0s 461us/step - loss: 0.0136 - acc: 0.9952 - val_loss: 0.3540 - val_acc: 0.8333\n",
            "Epoch 26/100\n",
            "208/208 [==============================] - 0s 475us/step - loss: 0.0131 - acc: 0.9952 - val_loss: 0.3294 - val_acc: 0.8444\n",
            "Epoch 27/100\n",
            "208/208 [==============================] - 0s 507us/step - loss: 0.0131 - acc: 0.9952 - val_loss: 0.3319 - val_acc: 0.8444\n",
            "Epoch 28/100\n",
            "208/208 [==============================] - 0s 469us/step - loss: 0.0120 - acc: 0.9952 - val_loss: 0.3572 - val_acc: 0.8333\n",
            "Epoch 29/100\n",
            "208/208 [==============================] - 0s 452us/step - loss: 0.0141 - acc: 0.9952 - val_loss: 0.3344 - val_acc: 0.8444\n",
            "Epoch 30/100\n",
            "208/208 [==============================] - 0s 465us/step - loss: 0.0150 - acc: 0.9952 - val_loss: 0.3247 - val_acc: 0.8667\n",
            "Epoch 31/100\n",
            "208/208 [==============================] - 0s 471us/step - loss: 0.0162 - acc: 0.9904 - val_loss: 0.3671 - val_acc: 0.8333\n",
            "Epoch 32/100\n",
            "208/208 [==============================] - 0s 484us/step - loss: 0.0111 - acc: 0.9952 - val_loss: 0.3183 - val_acc: 0.8667\n",
            "Epoch 33/100\n",
            "208/208 [==============================] - 0s 465us/step - loss: 0.0167 - acc: 0.9952 - val_loss: 0.3224 - val_acc: 0.8667\n",
            "Epoch 34/100\n",
            "208/208 [==============================] - 0s 451us/step - loss: 0.0114 - acc: 0.9952 - val_loss: 0.4466 - val_acc: 0.8333\n",
            "Epoch 35/100\n",
            "208/208 [==============================] - 0s 445us/step - loss: 0.0197 - acc: 0.9952 - val_loss: 0.3393 - val_acc: 0.8444\n",
            "Epoch 36/100\n",
            "208/208 [==============================] - 0s 458us/step - loss: 0.0139 - acc: 0.9952 - val_loss: 0.3138 - val_acc: 0.8778\n",
            "Epoch 37/100\n",
            "208/208 [==============================] - 0s 451us/step - loss: 0.0098 - acc: 0.9952 - val_loss: 0.3514 - val_acc: 0.8333\n",
            "Epoch 38/100\n",
            "208/208 [==============================] - 0s 479us/step - loss: 0.0130 - acc: 0.9904 - val_loss: 0.3421 - val_acc: 0.8444\n",
            "Epoch 39/100\n",
            "208/208 [==============================] - 0s 499us/step - loss: 0.0107 - acc: 0.9952 - val_loss: 0.3572 - val_acc: 0.8333\n",
            "Epoch 40/100\n",
            "208/208 [==============================] - 0s 471us/step - loss: 0.0150 - acc: 0.9952 - val_loss: 0.3513 - val_acc: 0.8333\n",
            "Epoch 41/100\n",
            "208/208 [==============================] - 0s 454us/step - loss: 0.0100 - acc: 0.9952 - val_loss: 0.3222 - val_acc: 0.8667\n",
            "Epoch 42/100\n",
            "208/208 [==============================] - 0s 480us/step - loss: 0.0113 - acc: 0.9952 - val_loss: 0.3542 - val_acc: 0.8333\n",
            "Epoch 43/100\n",
            "208/208 [==============================] - 0s 475us/step - loss: 0.0105 - acc: 0.9904 - val_loss: 0.3504 - val_acc: 0.8333\n",
            "Epoch 44/100\n",
            "208/208 [==============================] - 0s 479us/step - loss: 0.0143 - acc: 0.9904 - val_loss: 0.3369 - val_acc: 0.8556\n",
            "Epoch 45/100\n",
            "208/208 [==============================] - 0s 461us/step - loss: 0.0099 - acc: 0.9952 - val_loss: 0.3708 - val_acc: 0.8333\n",
            "Epoch 46/100\n",
            "208/208 [==============================] - 0s 453us/step - loss: 0.0099 - acc: 0.9952 - val_loss: 0.3509 - val_acc: 0.8333\n",
            "Epoch 47/100\n",
            "208/208 [==============================] - 0s 451us/step - loss: 0.0099 - acc: 0.9952 - val_loss: 0.3189 - val_acc: 0.8778\n",
            "Epoch 48/100\n",
            "208/208 [==============================] - 0s 474us/step - loss: 0.0148 - acc: 0.9952 - val_loss: 0.3401 - val_acc: 0.8556\n",
            "Epoch 49/100\n",
            "208/208 [==============================] - 0s 459us/step - loss: 0.0090 - acc: 0.9952 - val_loss: 0.4184 - val_acc: 0.8556\n",
            "Epoch 50/100\n",
            "208/208 [==============================] - 0s 470us/step - loss: 0.0150 - acc: 0.9952 - val_loss: 0.3466 - val_acc: 0.8444\n",
            "Epoch 51/100\n",
            "208/208 [==============================] - 0s 473us/step - loss: 0.0134 - acc: 0.9904 - val_loss: 0.3401 - val_acc: 0.8556\n",
            "Epoch 52/100\n",
            "208/208 [==============================] - 0s 481us/step - loss: 0.0152 - acc: 0.9952 - val_loss: 0.3088 - val_acc: 0.8889\n",
            "Epoch 53/100\n",
            "208/208 [==============================] - 0s 476us/step - loss: 0.0170 - acc: 0.9952 - val_loss: 0.4053 - val_acc: 0.8556\n",
            "Epoch 54/100\n",
            "208/208 [==============================] - 0s 462us/step - loss: 0.0147 - acc: 0.9904 - val_loss: 0.3798 - val_acc: 0.8444\n",
            "Epoch 55/100\n",
            "208/208 [==============================] - 0s 477us/step - loss: 0.0236 - acc: 0.9952 - val_loss: 0.4444 - val_acc: 0.8444\n",
            "Epoch 56/100\n",
            "208/208 [==============================] - 0s 487us/step - loss: 0.0221 - acc: 0.9904 - val_loss: 0.3378 - val_acc: 0.8889\n",
            "Epoch 57/100\n",
            "208/208 [==============================] - 0s 472us/step - loss: 0.0257 - acc: 0.9952 - val_loss: 0.3342 - val_acc: 0.8667\n",
            "Epoch 58/100\n",
            "208/208 [==============================] - 0s 478us/step - loss: 0.0195 - acc: 0.9904 - val_loss: 0.4482 - val_acc: 0.8444\n",
            "Epoch 59/100\n",
            "208/208 [==============================] - 0s 464us/step - loss: 0.0102 - acc: 0.9952 - val_loss: 0.3246 - val_acc: 0.8667\n",
            "Epoch 60/100\n",
            "208/208 [==============================] - 0s 464us/step - loss: 0.0107 - acc: 0.9952 - val_loss: 0.3279 - val_acc: 0.8667\n",
            "Epoch 61/100\n",
            "208/208 [==============================] - 0s 467us/step - loss: 0.0122 - acc: 0.9904 - val_loss: 0.3718 - val_acc: 0.8444\n",
            "Epoch 62/100\n",
            "208/208 [==============================] - 0s 466us/step - loss: 0.0111 - acc: 0.9904 - val_loss: 0.3559 - val_acc: 0.8444\n",
            "Epoch 63/100\n",
            "208/208 [==============================] - 0s 457us/step - loss: 0.0104 - acc: 0.9952 - val_loss: 0.3847 - val_acc: 0.8556\n",
            "Epoch 64/100\n",
            "208/208 [==============================] - 0s 456us/step - loss: 0.0112 - acc: 0.9952 - val_loss: 0.3405 - val_acc: 0.8556\n",
            "Epoch 65/100\n",
            "208/208 [==============================] - 0s 477us/step - loss: 0.0117 - acc: 0.9952 - val_loss: 0.3265 - val_acc: 0.8778\n",
            "Epoch 66/100\n",
            "208/208 [==============================] - 0s 467us/step - loss: 0.0096 - acc: 0.9952 - val_loss: 0.3573 - val_acc: 0.8444\n",
            "Epoch 67/100\n",
            "208/208 [==============================] - 0s 472us/step - loss: 0.0130 - acc: 0.9952 - val_loss: 0.3836 - val_acc: 0.8444\n",
            "Epoch 68/100\n",
            "208/208 [==============================] - 0s 466us/step - loss: 0.0053 - acc: 1.0000 - val_loss: 0.3251 - val_acc: 0.8778\n",
            "Epoch 69/100\n",
            "208/208 [==============================] - 0s 467us/step - loss: 0.0274 - acc: 0.9952 - val_loss: 0.3362 - val_acc: 0.8778\n",
            "Epoch 70/100\n",
            "208/208 [==============================] - 0s 466us/step - loss: 0.0123 - acc: 0.9952 - val_loss: 0.5139 - val_acc: 0.8333\n",
            "Epoch 71/100\n",
            "208/208 [==============================] - 0s 465us/step - loss: 0.0231 - acc: 0.9952 - val_loss: 0.4465 - val_acc: 0.8444\n",
            "Epoch 72/100\n",
            "208/208 [==============================] - 0s 464us/step - loss: 0.0063 - acc: 0.9952 - val_loss: 0.3139 - val_acc: 0.9000\n",
            "Epoch 73/100\n",
            "208/208 [==============================] - 0s 476us/step - loss: 0.0146 - acc: 0.9952 - val_loss: 0.3172 - val_acc: 0.8778\n",
            "Epoch 74/100\n",
            "208/208 [==============================] - 0s 492us/step - loss: 0.0088 - acc: 0.9952 - val_loss: 0.3530 - val_acc: 0.8556\n",
            "Epoch 75/100\n",
            "208/208 [==============================] - 0s 469us/step - loss: 0.0134 - acc: 0.9952 - val_loss: 0.4029 - val_acc: 0.8556\n",
            "Epoch 76/100\n",
            "208/208 [==============================] - 0s 476us/step - loss: 0.0112 - acc: 0.9952 - val_loss: 0.3164 - val_acc: 0.8889\n",
            "Epoch 77/100\n",
            "208/208 [==============================] - 0s 466us/step - loss: 0.0166 - acc: 0.9952 - val_loss: 0.3592 - val_acc: 0.8444\n",
            "Epoch 78/100\n",
            "208/208 [==============================] - 0s 466us/step - loss: 0.0128 - acc: 0.9952 - val_loss: 0.3436 - val_acc: 0.8667\n",
            "Epoch 79/100\n",
            "208/208 [==============================] - 0s 464us/step - loss: 0.0198 - acc: 0.9904 - val_loss: 0.4636 - val_acc: 0.8333\n",
            "Epoch 80/100\n",
            "208/208 [==============================] - 0s 469us/step - loss: 0.0097 - acc: 0.9904 - val_loss: 0.3713 - val_acc: 0.8444\n",
            "Epoch 81/100\n",
            "208/208 [==============================] - 0s 462us/step - loss: 0.0155 - acc: 0.9952 - val_loss: 0.3995 - val_acc: 0.8556\n",
            "Epoch 82/100\n",
            "208/208 [==============================] - 0s 489us/step - loss: 0.0088 - acc: 0.9952 - val_loss: 0.3399 - val_acc: 0.8667\n",
            "Epoch 83/100\n",
            "208/208 [==============================] - 0s 460us/step - loss: 0.0088 - acc: 0.9952 - val_loss: 0.3255 - val_acc: 0.8778\n",
            "Epoch 84/100\n",
            "208/208 [==============================] - 0s 465us/step - loss: 0.0091 - acc: 0.9952 - val_loss: 0.3565 - val_acc: 0.8556\n",
            "Epoch 85/100\n",
            "208/208 [==============================] - 0s 474us/step - loss: 0.0080 - acc: 0.9952 - val_loss: 0.3808 - val_acc: 0.8556\n",
            "Epoch 86/100\n",
            "208/208 [==============================] - 0s 470us/step - loss: 0.0079 - acc: 0.9952 - val_loss: 0.3458 - val_acc: 0.8667\n",
            "Epoch 87/100\n",
            "208/208 [==============================] - 0s 483us/step - loss: 0.0095 - acc: 0.9952 - val_loss: 0.3628 - val_acc: 0.8444\n",
            "Epoch 88/100\n",
            "208/208 [==============================] - 0s 462us/step - loss: 0.0139 - acc: 0.9904 - val_loss: 0.4021 - val_acc: 0.8556\n",
            "Epoch 89/100\n",
            "208/208 [==============================] - 0s 482us/step - loss: 0.0133 - acc: 0.9904 - val_loss: 0.3321 - val_acc: 0.8778\n",
            "Epoch 90/100\n",
            "208/208 [==============================] - 0s 481us/step - loss: 0.0093 - acc: 0.9952 - val_loss: 0.3737 - val_acc: 0.8444\n",
            "Epoch 91/100\n",
            "208/208 [==============================] - 0s 453us/step - loss: 0.0076 - acc: 0.9952 - val_loss: 0.3828 - val_acc: 0.8444\n",
            "Epoch 92/100\n",
            "208/208 [==============================] - 0s 464us/step - loss: 0.0111 - acc: 0.9904 - val_loss: 0.3615 - val_acc: 0.8556\n",
            "Epoch 93/100\n",
            "208/208 [==============================] - 0s 457us/step - loss: 0.0082 - acc: 0.9904 - val_loss: 0.3786 - val_acc: 0.8444\n",
            "Epoch 94/100\n",
            "208/208 [==============================] - 0s 458us/step - loss: 0.0087 - acc: 0.9952 - val_loss: 0.3685 - val_acc: 0.8444\n",
            "Epoch 95/100\n",
            "208/208 [==============================] - 0s 464us/step - loss: 0.0074 - acc: 0.9952 - val_loss: 0.3573 - val_acc: 0.8556\n",
            "Epoch 96/100\n",
            "208/208 [==============================] - 0s 459us/step - loss: 0.0117 - acc: 0.9904 - val_loss: 0.3720 - val_acc: 0.8444\n",
            "Epoch 97/100\n",
            "208/208 [==============================] - 0s 469us/step - loss: 0.0124 - acc: 0.9952 - val_loss: 0.3419 - val_acc: 0.8667\n",
            "Epoch 98/100\n",
            "208/208 [==============================] - 0s 489us/step - loss: 0.0183 - acc: 0.9952 - val_loss: 0.4794 - val_acc: 0.8444\n",
            "Epoch 99/100\n",
            "208/208 [==============================] - 0s 463us/step - loss: 0.0206 - acc: 0.9904 - val_loss: 0.3271 - val_acc: 0.8889\n",
            "Epoch 100/100\n",
            "208/208 [==============================] - 0s 491us/step - loss: 0.0190 - acc: 0.9952 - val_loss: 0.3293 - val_acc: 0.8889\n"
          ],
          "name": "stdout"
        },
        {
          "output_type": "execute_result",
          "data": {
            "text/plain": [
              "<keras.callbacks.History at 0x7f77ee125588>"
            ]
          },
          "metadata": {
            "tags": []
          },
          "execution_count": 20
        }
      ]
    },
    {
      "cell_type": "markdown",
      "metadata": {
        "id": "6NQOXg2gYjQJ",
        "colab_type": "text"
      },
      "source": [
        "# iii. Training the model\n",
        "model.fit(train, y_train, epochs=100, validation_data=(X_valid, y_valid))"
      ]
    },
    {
      "cell_type": "markdown",
      "metadata": {
        "id": "x-J9-tR-YuJQ",
        "colab_type": "text"
      },
      "source": [
        "In the next section, we will try to calculate the screen time of TOM and JERRY in a Test video.\n",
        "\n",
        " "
      ]
    },
    {
      "cell_type": "markdown",
      "metadata": {
        "id": "h2se3eiUY5SH",
        "colab_type": "text"
      },
      "source": [
        "First, download the video we’ll be using in this section from here. Once done, go ahead and load the video and extract frames from it. We will follow the same steps as we did above:"
      ]
    },
    {
      "cell_type": "code",
      "metadata": {
        "id": "9OIpJTr9YoUp",
        "colab_type": "code",
        "colab": {
          "base_uri": "https://localhost:8080/",
          "height": 34
        },
        "outputId": "ac437450-dbf9-46c6-afd8-3664b6db52b4"
      },
      "source": [
        "count = 0\n",
        "videoFile = \"/content/Dataset/Test Tom and Jerry.mp4\"\n",
        "cap = cv2.VideoCapture(videoFile)\n",
        "frameRate = cap.get(5) #frame rate\n",
        "x=1\n",
        "while(cap.isOpened()):\n",
        "    frameId = cap.get(1) #current frame number\n",
        "    ret, frame = cap.read()\n",
        "    if (ret != True):\n",
        "        break\n",
        "    if (frameId % math.floor(frameRate) == 0):\n",
        "        filename =\"test%d.jpg\" % count;count+=1\n",
        "        cv2.imwrite(filename, frame)\n",
        "cap.release()\n",
        "print (\"Done!\")"
      ],
      "execution_count": 21,
      "outputs": [
        {
          "output_type": "stream",
          "text": [
            "Done!\n"
          ],
          "name": "stdout"
        }
      ]
    },
    {
      "cell_type": "markdown",
      "metadata": {
        "id": "52GPgjOEZJDD",
        "colab_type": "text"
      },
      "source": [
        "After extracting the frames from the new video, we will now load the test.csv file which contains the names of each extracted frame. Download the test.csv file and load it:"
      ]
    },
    {
      "cell_type": "code",
      "metadata": {
        "id": "jhvZ4Ip6ZPFI",
        "colab_type": "code",
        "colab": {}
      },
      "source": [
        "test = pd.read_csv('/content/Dataset/test.csv')"
      ],
      "execution_count": 0,
      "outputs": []
    },
    {
      "cell_type": "code",
      "metadata": {
        "id": "-Ialb2KeZXZu",
        "colab_type": "code",
        "colab": {
          "base_uri": "https://localhost:8080/",
          "height": 204
        },
        "outputId": "7887ed10-c8a7-485c-ce1f-03a0633258b6"
      },
      "source": [
        "test.head()\n"
      ],
      "execution_count": 23,
      "outputs": [
        {
          "output_type": "execute_result",
          "data": {
            "text/html": [
              "<div>\n",
              "<style scoped>\n",
              "    .dataframe tbody tr th:only-of-type {\n",
              "        vertical-align: middle;\n",
              "    }\n",
              "\n",
              "    .dataframe tbody tr th {\n",
              "        vertical-align: top;\n",
              "    }\n",
              "\n",
              "    .dataframe thead th {\n",
              "        text-align: right;\n",
              "    }\n",
              "</style>\n",
              "<table border=\"1\" class=\"dataframe\">\n",
              "  <thead>\n",
              "    <tr style=\"text-align: right;\">\n",
              "      <th></th>\n",
              "      <th>Image_ID</th>\n",
              "    </tr>\n",
              "  </thead>\n",
              "  <tbody>\n",
              "    <tr>\n",
              "      <th>0</th>\n",
              "      <td>test0.jpg</td>\n",
              "    </tr>\n",
              "    <tr>\n",
              "      <th>1</th>\n",
              "      <td>test1.jpg</td>\n",
              "    </tr>\n",
              "    <tr>\n",
              "      <th>2</th>\n",
              "      <td>test2.jpg</td>\n",
              "    </tr>\n",
              "    <tr>\n",
              "      <th>3</th>\n",
              "      <td>test3.jpg</td>\n",
              "    </tr>\n",
              "    <tr>\n",
              "      <th>4</th>\n",
              "      <td>test4.jpg</td>\n",
              "    </tr>\n",
              "  </tbody>\n",
              "</table>\n",
              "</div>"
            ],
            "text/plain": [
              "    Image_ID\n",
              "0  test0.jpg\n",
              "1  test1.jpg\n",
              "2  test2.jpg\n",
              "3  test3.jpg\n",
              "4  test4.jpg"
            ]
          },
          "metadata": {
            "tags": []
          },
          "execution_count": 23
        }
      ]
    },
    {
      "cell_type": "markdown",
      "metadata": {
        "id": "ung8nc8rZeEK",
        "colab_type": "text"
      },
      "source": [
        "Next, we will import the images for testing and then reshape them as per the requirements of the aforementioned pretrained model:"
      ]
    },
    {
      "cell_type": "code",
      "metadata": {
        "id": "qnRtVcsaZdBP",
        "colab_type": "code",
        "colab": {}
      },
      "source": [
        "test_image = []\n",
        "for img_name in test.Image_ID:\n",
        "    img = plt.imread('' + img_name)\n",
        "    test_image.append(img)\n",
        "test_img = np.array(test_image)"
      ],
      "execution_count": 0,
      "outputs": []
    },
    {
      "cell_type": "code",
      "metadata": {
        "id": "MFqM4NG1Ztcj",
        "colab_type": "code",
        "colab": {}
      },
      "source": [
        "test_image = []\n",
        "for i in range(0,test_img.shape[0]):\n",
        "    a = resize(test_img[i], preserve_range=True, output_shape=(224,224)).astype(int)\n",
        "    test_image.append(a)\n",
        "test_image = np.array(test_image)"
      ],
      "execution_count": 0,
      "outputs": []
    },
    {
      "cell_type": "markdown",
      "metadata": {
        "id": "rLTDBpg4Z0Ou",
        "colab_type": "text"
      },
      "source": [
        "\n",
        "We need to make changes to these images similar to the ones we did for the training images. We will preprocess the images, use the base_model.predict() function to extract features from these images using the VGG16 pretrained model, reshape these images to 1-D form, and make them zero-centered:\n",
        "---\n",
        "\n"
      ]
    },
    {
      "cell_type": "code",
      "metadata": {
        "id": "1h6Ed5J4Z2CE",
        "colab_type": "code",
        "colab": {}
      },
      "source": [
        "# preprocessing the images\n",
        "test_image = preprocess_input(test_image, mode='tf')\n",
        "\n",
        "# extracting features from the images using pretrained model\n",
        "test_image = base_model.predict(test_image)\n",
        "\n",
        "# converting the images to 1-D form\n",
        "test_image = test_image.reshape(186, 7*7*512)\n",
        "\n",
        "# zero centered images\n",
        "test_image = test_image/test_image.max()"
      ],
      "execution_count": 0,
      "outputs": []
    },
    {
      "cell_type": "markdown",
      "metadata": {
        "id": "2NwkZiteaFKV",
        "colab_type": "text"
      },
      "source": [
        "Since we have trained the model previously, we will make use of that model to make prediction for these images."
      ]
    },
    {
      "cell_type": "code",
      "metadata": {
        "id": "KdaS77oaaGeS",
        "colab_type": "code",
        "colab": {}
      },
      "source": [
        "predictions = model.predict_classes(test_image)"
      ],
      "execution_count": 0,
      "outputs": []
    },
    {
      "cell_type": "markdown",
      "metadata": {
        "id": "ZcpYqsJ6aN4d",
        "colab_type": "text"
      },
      "source": [
        "Step – 5 Calculate the screen time of both TOM and JERRY\n",
        "Recall that Class ‘1’ represents the presence of JERRY, while Class ‘2’ represents the presence of TOM. We shall make use of the above predictions to calculate the screen time of both these legendary characters:"
      ]
    },
    {
      "cell_type": "code",
      "metadata": {
        "id": "18kzIIT6aRR9",
        "colab_type": "code",
        "colab": {
          "base_uri": "https://localhost:8080/",
          "height": 51
        },
        "outputId": "0df34f27-bc18-4d51-9d5d-51ae649a97a8"
      },
      "source": [
        "print(\"The screen time of JERRY is\", predictions[predictions==1].shape[0], \"seconds\")\n",
        "print(\"The screen time of TOM is\", predictions[predictions==2].shape[0], \"seconds\")"
      ],
      "execution_count": 28,
      "outputs": [
        {
          "output_type": "stream",
          "text": [
            "The screen time of JERRY is 6 seconds\n",
            "The screen time of TOM is 113 seconds\n"
          ],
          "name": "stdout"
        }
      ]
    },
    {
      "cell_type": "markdown",
      "metadata": {
        "id": "hIJNI8_7a-DD",
        "colab_type": "text"
      },
      "source": [
        "Now for final submission , we will write the .csv file for final predict."
      ]
    },
    {
      "cell_type": "code",
      "metadata": {
        "id": "X4dSQFO4a2p0",
        "colab_type": "code",
        "colab": {}
      },
      "source": [
        "df = pd.DataFrame(predictions) \n",
        "  \n",
        "# saving the dataframe \n",
        "df.to_csv('final_predict.csv') "
      ],
      "execution_count": 0,
      "outputs": []
    },
    {
      "cell_type": "markdown",
      "metadata": {
        "id": "Rwbq4lxtbp0v",
        "colab_type": "text"
      },
      "source": [
        "Just a random check of the result"
      ]
    },
    {
      "cell_type": "code",
      "metadata": {
        "id": "8nH86S3abtl2",
        "colab_type": "code",
        "colab": {
          "base_uri": "https://localhost:8080/",
          "height": 257
        },
        "outputId": "9e95ed48-bea9-4aa1-b059-d53fb313e882"
      },
      "source": [
        "img = plt.imread('test46.jpg')   # reading image using its name\n",
        "plt.imshow(img)"
      ],
      "execution_count": 30,
      "outputs": [
        {
          "output_type": "execute_result",
          "data": {
            "text/plain": [
              "<matplotlib.image.AxesImage at 0x7f777c8975c0>"
            ]
          },
          "metadata": {
            "tags": []
          },
          "execution_count": 30
        },
        {
          "output_type": "display_data",
          "data": {
            "image/png": "[encoded data removed]",
            "text/plain": [
              "<Figure size 432x288 with 1 Axes>"
            ]
          },
          "metadata": {
            "tags": []
          }
        }
      ]
    },
    {
      "cell_type": "markdown",
      "metadata": {
        "id": "Ef8ZHhMncxlA",
        "colab_type": "text"
      },
      "source": [
        "My learnings – what worked and what did not\n",
        "I tried and tested many things for this challenge – some worked exceedingly well, while some ended up flat. In this section, I will elaborate a bit on some of the difficulties I faced, and then how I tackled them. After that, I have provided the entire code for the final model which gave me the best accuracy.\n",
        "\n",
        "First, I tried using the pretrained model without removing the top layer. The results were not satisfactory. The possible reason could be that these are the cartoon images and our pretrained model was trained on actual images and hence it was not able to classify these cartoon images. To tackle this problem, i retrained the pretrain model using few labelled images and the results were better from the previous results.\n",
        "\n",
        "Even after training on the labelled images, the accuracy was not satisfactory. The model was not able to perform well on the training images itself. So, i tried to increase the number of layers. Increasing the number of layers proved to be a good solution to increase the training accuracy but there was no sync between training and validation accuracy. The model was overfitting and its performance on the unseen data was not satisfactory. So I added a Dropout layer after every Dense layer and then there was good sync between training and validation accuracy.\n",
        "\n",
        "I noticed that the classes are imbalanced. TOM had more screen time so the predictions were dominated by it and most of the frames were predicted as TOM. To overcome this and make the classes balanced, i used compute_class_weight() function of sklearn.utils.class_weight module. It assigned higher weights to the classes with lower value counts as compared to the classes with higher value counts.\n",
        "\n",
        "I also used Model Checkpointing to save the best model, i.e. the model which produced lowest validation loss and then used that model to make the final predictions. I will summarize all the above mentioned steps and will give the final code now. The actual classes for the testing images can be found in testing.csv file."
      ]
    },
    {
      "cell_type": "markdown",
      "metadata": {
        "id": "iPGCzj8Meueb",
        "colab_type": "text"
      },
      "source": [
        "Now repeating the codes with above said recommendations"
      ]
    },
    {
      "cell_type": "code",
      "metadata": {
        "id": "qbxUeFO8c3BU",
        "colab_type": "code",
        "colab": {}
      },
      "source": [
        "from keras.utils import np_utils\n",
        "train_y = np_utils.to_categorical(data.Class)\n"
      ],
      "execution_count": 0,
      "outputs": []
    },
    {
      "cell_type": "code",
      "metadata": {
        "id": "xX83A6sYfqnA",
        "colab_type": "code",
        "colab": {
          "base_uri": "https://localhost:8080/",
          "height": 122
        },
        "outputId": "d233b52c-ecf8-4c53-e129-4476b71e2373"
      },
      "source": [
        "model = Sequential()\n",
        "model.add(InputLayer((7*7*512,)))    # input layer\n",
        "model.add(Dense(units=1024, activation='sigmoid'))   # hidden layer\n",
        "model.add(Dropout(0.5))      # adding dropout\n",
        "model.add(Dense(units=512, activation='sigmoid'))    # hidden layer\n",
        "model.add(Dropout(0.5))      # adding dropout\n",
        "model.add(Dense(units=256, activation='sigmoid'))    # hidden layer\n",
        "model.add(Dropout(0.5))      # adding dropout\n",
        "model.add(Dense(3, activation='softmax'))            # output layer"
      ],
      "execution_count": 33,
      "outputs": [
        {
          "output_type": "stream",
          "text": [
            "WARNING:tensorflow:From /usr/local/lib/python3.6/dist-packages/keras/backend/tensorflow_backend.py:148: The name tf.placeholder_with_default is deprecated. Please use tf.compat.v1.placeholder_with_default instead.\n",
            "\n",
            "WARNING:tensorflow:From /usr/local/lib/python3.6/dist-packages/keras/backend/tensorflow_backend.py:3733: calling dropout (from tensorflow.python.ops.nn_ops) with keep_prob is deprecated and will be removed in a future version.\n",
            "Instructions for updating:\n",
            "Please use `rate` instead of `keep_prob`. Rate should be set to `rate = 1 - keep_prob`.\n"
          ],
          "name": "stdout"
        }
      ]
    },
    {
      "cell_type": "code",
      "metadata": {
        "id": "BId_koQUfuQK",
        "colab_type": "code",
        "colab": {}
      },
      "source": [
        "model.compile(loss='categorical_crossentropy', optimizer='adam', metrics=['accuracy'])"
      ],
      "execution_count": 0,
      "outputs": []
    },
    {
      "cell_type": "code",
      "metadata": {
        "id": "FZigHWXWf0fa",
        "colab_type": "code",
        "colab": {}
      },
      "source": [
        "from sklearn.utils.class_weight import compute_class_weight, compute_sample_weight\n",
        "class_weights = compute_class_weight('balanced',np.unique(data.Class), data.Class)  # computing weights of different classes"
      ],
      "execution_count": 0,
      "outputs": []
    },
    {
      "cell_type": "code",
      "metadata": {
        "id": "o95jYTcUf4Zy",
        "colab_type": "code",
        "colab": {}
      },
      "source": [
        "from keras.callbacks import ModelCheckpoint\n",
        "filepath=\"weights.best.hdf5\"\n",
        "checkpoint = ModelCheckpoint(filepath, monitor='val_loss', verbose=1, save_best_only=True, mode='min')\n",
        "callbacks_list = [checkpoint]      # model check pointing based on validation loss"
      ],
      "execution_count": 0,
      "outputs": []
    },
    {
      "cell_type": "code",
      "metadata": {
        "id": "Conph3sPf-iV",
        "colab_type": "code",
        "colab": {
          "base_uri": "https://localhost:8080/",
          "height": 1000
        },
        "outputId": "e3a7c2c7-4b60-4e8f-e407-692bd0e97307"
      },
      "source": [
        "model.fit(train, y_train, epochs=100, validation_data=(X_valid, y_valid), class_weight=class_weights, callbacks=callbacks_list)"
      ],
      "execution_count": 37,
      "outputs": [
        {
          "output_type": "stream",
          "text": [
            "Train on 208 samples, validate on 90 samples\n",
            "Epoch 1/100\n",
            "208/208 [==============================] - 1s 4ms/step - loss: 1.3304 - acc: 0.3798 - val_loss: 1.2156 - val_acc: 0.2444\n",
            "\n",
            "Epoch 00001: val_loss improved from inf to 1.21558, saving model to weights.best.hdf5\n",
            "Epoch 2/100\n",
            "208/208 [==============================] - 0s 626us/step - loss: 1.3735 - acc: 0.2885 - val_loss: 1.1116 - val_acc: 0.5667\n",
            "\n",
            "Epoch 00002: val_loss improved from 1.21558 to 1.11162, saving model to weights.best.hdf5\n",
            "Epoch 3/100\n",
            "208/208 [==============================] - 0s 577us/step - loss: 1.2217 - acc: 0.3990 - val_loss: 1.0235 - val_acc: 0.3889\n",
            "\n",
            "Epoch 00003: val_loss improved from 1.11162 to 1.02345, saving model to weights.best.hdf5\n",
            "Epoch 4/100\n",
            "208/208 [==============================] - 0s 592us/step - loss: 1.1705 - acc: 0.4183 - val_loss: 0.9956 - val_acc: 0.4333\n",
            "\n",
            "Epoch 00004: val_loss improved from 1.02345 to 0.99563, saving model to weights.best.hdf5\n",
            "Epoch 5/100\n",
            "208/208 [==============================] - 0s 576us/step - loss: 1.0189 - acc: 0.4615 - val_loss: 0.9233 - val_acc: 0.5444\n",
            "\n",
            "Epoch 00005: val_loss improved from 0.99563 to 0.92335, saving model to weights.best.hdf5\n",
            "Epoch 6/100\n",
            "208/208 [==============================] - 0s 576us/step - loss: 0.8799 - acc: 0.6346 - val_loss: 0.8086 - val_acc: 0.6222\n",
            "\n",
            "Epoch 00006: val_loss improved from 0.92335 to 0.80856, saving model to weights.best.hdf5\n",
            "Epoch 7/100\n",
            "208/208 [==============================] - 0s 589us/step - loss: 0.7580 - acc: 0.7115 - val_loss: 0.7216 - val_acc: 0.6778\n",
            "\n",
            "Epoch 00007: val_loss improved from 0.80856 to 0.72165, saving model to weights.best.hdf5\n",
            "Epoch 8/100\n",
            "208/208 [==============================] - 0s 605us/step - loss: 0.5945 - acc: 0.7885 - val_loss: 0.6241 - val_acc: 0.7889\n",
            "\n",
            "Epoch 00008: val_loss improved from 0.72165 to 0.62407, saving model to weights.best.hdf5\n",
            "Epoch 9/100\n",
            "208/208 [==============================] - 0s 587us/step - loss: 0.4358 - acc: 0.8750 - val_loss: 0.5613 - val_acc: 0.7667\n",
            "\n",
            "Epoch 00009: val_loss improved from 0.62407 to 0.56127, saving model to weights.best.hdf5\n",
            "Epoch 10/100\n",
            "208/208 [==============================] - 0s 599us/step - loss: 0.3164 - acc: 0.9038 - val_loss: 0.4526 - val_acc: 0.8111\n",
            "\n",
            "Epoch 00010: val_loss improved from 0.56127 to 0.45263, saving model to weights.best.hdf5\n",
            "Epoch 11/100\n",
            "208/208 [==============================] - 0s 549us/step - loss: 0.2231 - acc: 0.9327 - val_loss: 0.4081 - val_acc: 0.8222\n",
            "\n",
            "Epoch 00011: val_loss improved from 0.45263 to 0.40815, saving model to weights.best.hdf5\n",
            "Epoch 12/100\n",
            "208/208 [==============================] - 0s 567us/step - loss: 0.1585 - acc: 0.9663 - val_loss: 0.3662 - val_acc: 0.8444\n",
            "\n",
            "Epoch 00012: val_loss improved from 0.40815 to 0.36622, saving model to weights.best.hdf5\n",
            "Epoch 13/100\n",
            "208/208 [==============================] - 0s 589us/step - loss: 0.0988 - acc: 0.9760 - val_loss: 0.4092 - val_acc: 0.8444\n",
            "\n",
            "Epoch 00013: val_loss did not improve from 0.36622\n",
            "Epoch 14/100\n",
            "208/208 [==============================] - 0s 536us/step - loss: 0.0846 - acc: 0.9808 - val_loss: 0.3567 - val_acc: 0.8444\n",
            "\n",
            "Epoch 00014: val_loss improved from 0.36622 to 0.35674, saving model to weights.best.hdf5\n",
            "Epoch 15/100\n",
            "208/208 [==============================] - 0s 566us/step - loss: 0.0538 - acc: 0.9904 - val_loss: 0.3694 - val_acc: 0.8333\n",
            "\n",
            "Epoch 00015: val_loss did not improve from 0.35674\n",
            "Epoch 16/100\n",
            "208/208 [==============================] - 0s 559us/step - loss: 0.0365 - acc: 0.9952 - val_loss: 0.3625 - val_acc: 0.8444\n",
            "\n",
            "Epoch 00016: val_loss did not improve from 0.35674\n",
            "Epoch 17/100\n",
            "208/208 [==============================] - 0s 560us/step - loss: 0.0405 - acc: 0.9856 - val_loss: 0.3549 - val_acc: 0.8667\n",
            "\n",
            "Epoch 00017: val_loss improved from 0.35674 to 0.35488, saving model to weights.best.hdf5\n",
            "Epoch 18/100\n",
            "208/208 [==============================] - 0s 1ms/step - loss: 0.0277 - acc: 0.9952 - val_loss: 0.3484 - val_acc: 0.8667\n",
            "\n",
            "Epoch 00018: val_loss improved from 0.35488 to 0.34843, saving model to weights.best.hdf5\n",
            "Epoch 19/100\n",
            "208/208 [==============================] - 0s 550us/step - loss: 0.0210 - acc: 1.0000 - val_loss: 0.3807 - val_acc: 0.8667\n",
            "\n",
            "Epoch 00019: val_loss did not improve from 0.34843\n",
            "Epoch 20/100\n",
            "208/208 [==============================] - 0s 551us/step - loss: 0.0317 - acc: 0.9952 - val_loss: 0.3497 - val_acc: 0.8556\n",
            "\n",
            "Epoch 00020: val_loss did not improve from 0.34843\n",
            "Epoch 21/100\n",
            "208/208 [==============================] - 0s 552us/step - loss: 0.0263 - acc: 0.9952 - val_loss: 0.3856 - val_acc: 0.8556\n",
            "\n",
            "Epoch 00021: val_loss did not improve from 0.34843\n",
            "Epoch 22/100\n",
            "208/208 [==============================] - 0s 563us/step - loss: 0.0281 - acc: 0.9904 - val_loss: 0.3918 - val_acc: 0.8667\n",
            "\n",
            "Epoch 00022: val_loss did not improve from 0.34843\n",
            "Epoch 23/100\n",
            "208/208 [==============================] - 0s 571us/step - loss: 0.0246 - acc: 0.9952 - val_loss: 0.3498 - val_acc: 0.8778\n",
            "\n",
            "Epoch 00023: val_loss did not improve from 0.34843\n",
            "Epoch 24/100\n",
            "208/208 [==============================] - 0s 623us/step - loss: 0.0164 - acc: 0.9952 - val_loss: 0.4374 - val_acc: 0.8444\n",
            "\n",
            "Epoch 00024: val_loss did not improve from 0.34843\n",
            "Epoch 25/100\n",
            "208/208 [==============================] - 0s 585us/step - loss: 0.0241 - acc: 0.9952 - val_loss: 0.3812 - val_acc: 0.8556\n",
            "\n",
            "Epoch 00025: val_loss did not improve from 0.34843\n",
            "Epoch 26/100\n",
            "208/208 [==============================] - 0s 600us/step - loss: 0.0110 - acc: 1.0000 - val_loss: 0.3569 - val_acc: 0.8889\n",
            "\n",
            "Epoch 00026: val_loss did not improve from 0.34843\n",
            "Epoch 27/100\n",
            "208/208 [==============================] - 0s 570us/step - loss: 0.0365 - acc: 0.9904 - val_loss: 0.4862 - val_acc: 0.8444\n",
            "\n",
            "Epoch 00027: val_loss did not improve from 0.34843\n",
            "Epoch 28/100\n",
            "208/208 [==============================] - 0s 558us/step - loss: 0.0369 - acc: 0.9904 - val_loss: 0.3633 - val_acc: 0.8778\n",
            "\n",
            "Epoch 00028: val_loss did not improve from 0.34843\n",
            "Epoch 29/100\n",
            "208/208 [==============================] - 0s 532us/step - loss: 0.0238 - acc: 0.9952 - val_loss: 0.3841 - val_acc: 0.8556\n",
            "\n",
            "Epoch 00029: val_loss did not improve from 0.34843\n",
            "Epoch 30/100\n",
            "208/208 [==============================] - 0s 578us/step - loss: 0.0083 - acc: 1.0000 - val_loss: 0.4385 - val_acc: 0.8556\n",
            "\n",
            "Epoch 00030: val_loss did not improve from 0.34843\n",
            "Epoch 31/100\n",
            "208/208 [==============================] - 0s 554us/step - loss: 0.0159 - acc: 0.9952 - val_loss: 0.4314 - val_acc: 0.8556\n",
            "\n",
            "Epoch 00031: val_loss did not improve from 0.34843\n",
            "Epoch 32/100\n",
            "208/208 [==============================] - 0s 554us/step - loss: 0.0107 - acc: 0.9952 - val_loss: 0.3847 - val_acc: 0.8667\n",
            "\n",
            "Epoch 00032: val_loss did not improve from 0.34843\n",
            "Epoch 33/100\n",
            "208/208 [==============================] - 0s 594us/step - loss: 0.0097 - acc: 1.0000 - val_loss: 0.3668 - val_acc: 0.9000\n",
            "\n",
            "Epoch 00033: val_loss did not improve from 0.34843\n",
            "Epoch 34/100\n",
            "208/208 [==============================] - 0s 538us/step - loss: 0.0066 - acc: 1.0000 - val_loss: 0.4147 - val_acc: 0.8444\n",
            "\n",
            "Epoch 00034: val_loss did not improve from 0.34843\n",
            "Epoch 35/100\n",
            "208/208 [==============================] - 0s 570us/step - loss: 0.0178 - acc: 0.9952 - val_loss: 0.4163 - val_acc: 0.8667\n",
            "\n",
            "Epoch 00035: val_loss did not improve from 0.34843\n",
            "Epoch 36/100\n",
            "208/208 [==============================] - 0s 540us/step - loss: 0.0233 - acc: 0.9904 - val_loss: 0.4096 - val_acc: 0.8667\n",
            "\n",
            "Epoch 00036: val_loss did not improve from 0.34843\n",
            "Epoch 37/100\n",
            "208/208 [==============================] - 0s 565us/step - loss: 0.0181 - acc: 0.9904 - val_loss: 0.4757 - val_acc: 0.8556\n",
            "\n",
            "Epoch 00037: val_loss did not improve from 0.34843\n",
            "Epoch 38/100\n",
            "208/208 [==============================] - 0s 571us/step - loss: 0.0087 - acc: 0.9952 - val_loss: 0.4957 - val_acc: 0.8444\n",
            "\n",
            "Epoch 00038: val_loss did not improve from 0.34843\n",
            "Epoch 39/100\n",
            "208/208 [==============================] - 0s 595us/step - loss: 0.0139 - acc: 0.9952 - val_loss: 0.3944 - val_acc: 0.8667\n",
            "\n",
            "Epoch 00039: val_loss did not improve from 0.34843\n",
            "Epoch 40/100\n",
            "208/208 [==============================] - 0s 567us/step - loss: 0.0212 - acc: 0.9904 - val_loss: 0.4057 - val_acc: 0.8556\n",
            "\n",
            "Epoch 00040: val_loss did not improve from 0.34843\n",
            "Epoch 41/100\n",
            "208/208 [==============================] - 0s 558us/step - loss: 0.0190 - acc: 0.9952 - val_loss: 0.4243 - val_acc: 0.8556\n",
            "\n",
            "Epoch 00041: val_loss did not improve from 0.34843\n",
            "Epoch 42/100\n",
            "208/208 [==============================] - 0s 528us/step - loss: 0.0278 - acc: 0.9904 - val_loss: 0.3631 - val_acc: 0.8778\n",
            "\n",
            "Epoch 00042: val_loss did not improve from 0.34843\n",
            "Epoch 43/100\n",
            "208/208 [==============================] - 0s 545us/step - loss: 0.0319 - acc: 0.9856 - val_loss: 0.4604 - val_acc: 0.8444\n",
            "\n",
            "Epoch 00043: val_loss did not improve from 0.34843\n",
            "Epoch 44/100\n",
            "208/208 [==============================] - 0s 546us/step - loss: 0.0141 - acc: 0.9952 - val_loss: 0.4401 - val_acc: 0.8556\n",
            "\n",
            "Epoch 00044: val_loss did not improve from 0.34843\n",
            "Epoch 45/100\n",
            "208/208 [==============================] - 0s 557us/step - loss: 0.0098 - acc: 0.9952 - val_loss: 0.3612 - val_acc: 0.8778\n",
            "\n",
            "Epoch 00045: val_loss did not improve from 0.34843\n",
            "Epoch 46/100\n",
            "208/208 [==============================] - 0s 546us/step - loss: 0.0084 - acc: 0.9952 - val_loss: 0.3878 - val_acc: 0.8667\n",
            "\n",
            "Epoch 00046: val_loss did not improve from 0.34843\n",
            "Epoch 47/100\n",
            "208/208 [==============================] - 0s 561us/step - loss: 0.0146 - acc: 0.9952 - val_loss: 0.3862 - val_acc: 0.8778\n",
            "\n",
            "Epoch 00047: val_loss did not improve from 0.34843\n",
            "Epoch 48/100\n",
            "208/208 [==============================] - 0s 540us/step - loss: 0.0069 - acc: 1.0000 - val_loss: 0.3986 - val_acc: 0.8778\n",
            "\n",
            "Epoch 00048: val_loss did not improve from 0.34843\n",
            "Epoch 49/100\n",
            "208/208 [==============================] - 0s 562us/step - loss: 0.0073 - acc: 1.0000 - val_loss: 0.3821 - val_acc: 0.8778\n",
            "\n",
            "Epoch 00049: val_loss did not improve from 0.34843\n",
            "Epoch 50/100\n",
            "208/208 [==============================] - 0s 584us/step - loss: 0.0052 - acc: 1.0000 - val_loss: 0.3926 - val_acc: 0.8778\n",
            "\n",
            "Epoch 00050: val_loss did not improve from 0.34843\n",
            "Epoch 51/100\n",
            "208/208 [==============================] - 0s 546us/step - loss: 0.0141 - acc: 0.9904 - val_loss: 0.3854 - val_acc: 0.8889\n",
            "\n",
            "Epoch 00051: val_loss did not improve from 0.34843\n",
            "Epoch 52/100\n",
            "208/208 [==============================] - 0s 541us/step - loss: 0.0092 - acc: 0.9952 - val_loss: 0.4252 - val_acc: 0.8778\n",
            "\n",
            "Epoch 00052: val_loss did not improve from 0.34843\n",
            "Epoch 53/100\n",
            "208/208 [==============================] - 0s 578us/step - loss: 0.0030 - acc: 1.0000 - val_loss: 0.5025 - val_acc: 0.8556\n",
            "\n",
            "Epoch 00053: val_loss did not improve from 0.34843\n",
            "Epoch 54/100\n",
            "208/208 [==============================] - 0s 560us/step - loss: 0.0190 - acc: 0.9952 - val_loss: 0.4514 - val_acc: 0.8667\n",
            "\n",
            "Epoch 00054: val_loss did not improve from 0.34843\n",
            "Epoch 55/100\n",
            "208/208 [==============================] - 0s 525us/step - loss: 0.0176 - acc: 0.9952 - val_loss: 0.3793 - val_acc: 0.8778\n",
            "\n",
            "Epoch 00055: val_loss did not improve from 0.34843\n",
            "Epoch 56/100\n",
            "208/208 [==============================] - 0s 532us/step - loss: 0.0099 - acc: 0.9952 - val_loss: 0.3715 - val_acc: 0.9000\n",
            "\n",
            "Epoch 00056: val_loss did not improve from 0.34843\n",
            "Epoch 57/100\n",
            "208/208 [==============================] - 0s 529us/step - loss: 0.0148 - acc: 0.9952 - val_loss: 0.4196 - val_acc: 0.8667\n",
            "\n",
            "Epoch 00057: val_loss did not improve from 0.34843\n",
            "Epoch 58/100\n",
            "208/208 [==============================] - 0s 533us/step - loss: 0.0162 - acc: 0.9904 - val_loss: 0.5558 - val_acc: 0.8333\n",
            "\n",
            "Epoch 00058: val_loss did not improve from 0.34843\n",
            "Epoch 59/100\n",
            "208/208 [==============================] - 0s 550us/step - loss: 0.0169 - acc: 0.9904 - val_loss: 0.4762 - val_acc: 0.8556\n",
            "\n",
            "Epoch 00059: val_loss did not improve from 0.34843\n",
            "Epoch 60/100\n",
            "208/208 [==============================] - 0s 523us/step - loss: 0.0199 - acc: 0.9904 - val_loss: 0.4163 - val_acc: 0.8778\n",
            "\n",
            "Epoch 00060: val_loss did not improve from 0.34843\n",
            "Epoch 61/100\n",
            "208/208 [==============================] - 0s 532us/step - loss: 0.0043 - acc: 1.0000 - val_loss: 0.4152 - val_acc: 0.8667\n",
            "\n",
            "Epoch 00061: val_loss did not improve from 0.34843\n",
            "Epoch 62/100\n",
            "208/208 [==============================] - 0s 523us/step - loss: 0.0071 - acc: 1.0000 - val_loss: 0.4316 - val_acc: 0.8667\n",
            "\n",
            "Epoch 00062: val_loss did not improve from 0.34843\n",
            "Epoch 63/100\n",
            "208/208 [==============================] - 0s 531us/step - loss: 0.0140 - acc: 0.9952 - val_loss: 0.4172 - val_acc: 0.8667\n",
            "\n",
            "Epoch 00063: val_loss did not improve from 0.34843\n",
            "Epoch 64/100\n",
            "208/208 [==============================] - 0s 512us/step - loss: 0.0043 - acc: 1.0000 - val_loss: 0.3809 - val_acc: 0.8889\n",
            "\n",
            "Epoch 00064: val_loss did not improve from 0.34843\n",
            "Epoch 65/100\n",
            "208/208 [==============================] - 0s 501us/step - loss: 0.0039 - acc: 1.0000 - val_loss: 0.3827 - val_acc: 0.8889\n",
            "\n",
            "Epoch 00065: val_loss did not improve from 0.34843\n",
            "Epoch 66/100\n",
            "208/208 [==============================] - 0s 502us/step - loss: 0.0132 - acc: 0.9952 - val_loss: 0.4486 - val_acc: 0.8667\n",
            "\n",
            "Epoch 00066: val_loss did not improve from 0.34843\n",
            "Epoch 67/100\n",
            "208/208 [==============================] - 0s 499us/step - loss: 0.0118 - acc: 0.9952 - val_loss: 0.5467 - val_acc: 0.8444\n",
            "\n",
            "Epoch 00067: val_loss did not improve from 0.34843\n",
            "Epoch 68/100\n",
            "208/208 [==============================] - 0s 535us/step - loss: 0.0079 - acc: 0.9952 - val_loss: 0.5741 - val_acc: 0.8333\n",
            "\n",
            "Epoch 00068: val_loss did not improve from 0.34843\n",
            "Epoch 69/100\n",
            "208/208 [==============================] - 0s 506us/step - loss: 0.0120 - acc: 0.9904 - val_loss: 0.5726 - val_acc: 0.8333\n",
            "\n",
            "Epoch 00069: val_loss did not improve from 0.34843\n",
            "Epoch 70/100\n",
            "208/208 [==============================] - 0s 706us/step - loss: 0.0045 - acc: 1.0000 - val_loss: 0.4336 - val_acc: 0.8667\n",
            "\n",
            "Epoch 00070: val_loss did not improve from 0.34843\n",
            "Epoch 71/100\n",
            "208/208 [==============================] - 0s 621us/step - loss: 0.0098 - acc: 0.9952 - val_loss: 0.3912 - val_acc: 0.8889\n",
            "\n",
            "Epoch 00071: val_loss did not improve from 0.34843\n",
            "Epoch 72/100\n",
            "208/208 [==============================] - 0s 552us/step - loss: 0.0168 - acc: 0.9952 - val_loss: 0.4029 - val_acc: 0.8889\n",
            "\n",
            "Epoch 00072: val_loss did not improve from 0.34843\n",
            "Epoch 73/100\n",
            "208/208 [==============================] - 0s 532us/step - loss: 0.0106 - acc: 0.9952 - val_loss: 0.4948 - val_acc: 0.8556\n",
            "\n",
            "Epoch 00073: val_loss did not improve from 0.34843\n",
            "Epoch 74/100\n",
            "208/208 [==============================] - 0s 537us/step - loss: 0.0042 - acc: 1.0000 - val_loss: 0.5044 - val_acc: 0.8556\n",
            "\n",
            "Epoch 00074: val_loss did not improve from 0.34843\n",
            "Epoch 75/100\n",
            "208/208 [==============================] - 0s 517us/step - loss: 0.0034 - acc: 1.0000 - val_loss: 0.4801 - val_acc: 0.8556\n",
            "\n",
            "Epoch 00075: val_loss did not improve from 0.34843\n",
            "Epoch 76/100\n",
            "208/208 [==============================] - 0s 523us/step - loss: 0.0103 - acc: 0.9952 - val_loss: 0.4375 - val_acc: 0.8556\n",
            "\n",
            "Epoch 00076: val_loss did not improve from 0.34843\n",
            "Epoch 77/100\n",
            "208/208 [==============================] - 0s 547us/step - loss: 0.0186 - acc: 0.9952 - val_loss: 0.4040 - val_acc: 0.8889\n",
            "\n",
            "Epoch 00077: val_loss did not improve from 0.34843\n",
            "Epoch 78/100\n",
            "208/208 [==============================] - 0s 524us/step - loss: 0.0154 - acc: 0.9952 - val_loss: 0.4088 - val_acc: 0.8889\n",
            "\n",
            "Epoch 00078: val_loss did not improve from 0.34843\n",
            "Epoch 79/100\n",
            "208/208 [==============================] - 0s 536us/step - loss: 0.0258 - acc: 0.9904 - val_loss: 0.4179 - val_acc: 0.8778\n",
            "\n",
            "Epoch 00079: val_loss did not improve from 0.34843\n",
            "Epoch 80/100\n",
            "208/208 [==============================] - 0s 531us/step - loss: 0.0144 - acc: 0.9904 - val_loss: 0.4288 - val_acc: 0.8778\n",
            "\n",
            "Epoch 00080: val_loss did not improve from 0.34843\n",
            "Epoch 81/100\n",
            "208/208 [==============================] - 0s 538us/step - loss: 0.0188 - acc: 0.9952 - val_loss: 0.3858 - val_acc: 0.9000\n",
            "\n",
            "Epoch 00081: val_loss did not improve from 0.34843\n",
            "Epoch 82/100\n",
            "208/208 [==============================] - 0s 527us/step - loss: 0.0085 - acc: 0.9952 - val_loss: 0.3843 - val_acc: 0.9000\n",
            "\n",
            "Epoch 00082: val_loss did not improve from 0.34843\n",
            "Epoch 83/100\n",
            "208/208 [==============================] - 0s 541us/step - loss: 0.0037 - acc: 1.0000 - val_loss: 0.4135 - val_acc: 0.8889\n",
            "\n",
            "Epoch 00083: val_loss did not improve from 0.34843\n",
            "Epoch 84/100\n",
            "208/208 [==============================] - 0s 532us/step - loss: 0.0029 - acc: 1.0000 - val_loss: 0.4506 - val_acc: 0.8778\n",
            "\n",
            "Epoch 00084: val_loss did not improve from 0.34843\n",
            "Epoch 85/100\n",
            "208/208 [==============================] - 0s 530us/step - loss: 0.0068 - acc: 0.9952 - val_loss: 0.4390 - val_acc: 0.8778\n",
            "\n",
            "Epoch 00085: val_loss did not improve from 0.34843\n",
            "Epoch 86/100\n",
            "208/208 [==============================] - 0s 552us/step - loss: 0.0218 - acc: 0.9952 - val_loss: 0.4532 - val_acc: 0.8889\n",
            "\n",
            "Epoch 00086: val_loss did not improve from 0.34843\n",
            "Epoch 87/100\n",
            "208/208 [==============================] - 0s 527us/step - loss: 0.0103 - acc: 0.9952 - val_loss: 0.4581 - val_acc: 0.8889\n",
            "\n",
            "Epoch 00087: val_loss did not improve from 0.34843\n",
            "Epoch 88/100\n",
            "208/208 [==============================] - 0s 520us/step - loss: 0.0272 - acc: 0.9904 - val_loss: 0.4538 - val_acc: 0.8778\n",
            "\n",
            "Epoch 00088: val_loss did not improve from 0.34843\n",
            "Epoch 89/100\n",
            "208/208 [==============================] - 0s 520us/step - loss: 0.0067 - acc: 0.9952 - val_loss: 0.4519 - val_acc: 0.8778\n",
            "\n",
            "Epoch 00089: val_loss did not improve from 0.34843\n",
            "Epoch 90/100\n",
            "208/208 [==============================] - 0s 509us/step - loss: 0.0114 - acc: 0.9904 - val_loss: 0.4569 - val_acc: 0.8667\n",
            "\n",
            "Epoch 00090: val_loss did not improve from 0.34843\n",
            "Epoch 91/100\n",
            "208/208 [==============================] - 0s 525us/step - loss: 0.0082 - acc: 0.9952 - val_loss: 0.4947 - val_acc: 0.8556\n",
            "\n",
            "Epoch 00091: val_loss did not improve from 0.34843\n",
            "Epoch 92/100\n",
            "208/208 [==============================] - 0s 525us/step - loss: 0.0155 - acc: 0.9904 - val_loss: 0.4751 - val_acc: 0.8556\n",
            "\n",
            "Epoch 00092: val_loss did not improve from 0.34843\n",
            "Epoch 93/100\n",
            "208/208 [==============================] - 0s 519us/step - loss: 0.0178 - acc: 0.9952 - val_loss: 0.4251 - val_acc: 0.8778\n",
            "\n",
            "Epoch 00093: val_loss did not improve from 0.34843\n",
            "Epoch 94/100\n",
            "208/208 [==============================] - 0s 536us/step - loss: 0.0051 - acc: 0.9952 - val_loss: 0.4068 - val_acc: 0.8889\n",
            "\n",
            "Epoch 00094: val_loss did not improve from 0.34843\n",
            "Epoch 95/100\n",
            "208/208 [==============================] - 0s 552us/step - loss: 0.0094 - acc: 0.9952 - val_loss: 0.4193 - val_acc: 0.8778\n",
            "\n",
            "Epoch 00095: val_loss did not improve from 0.34843\n",
            "Epoch 96/100\n",
            "208/208 [==============================] - 0s 534us/step - loss: 0.0088 - acc: 0.9952 - val_loss: 0.5317 - val_acc: 0.8556\n",
            "\n",
            "Epoch 00096: val_loss did not improve from 0.34843\n",
            "Epoch 97/100\n",
            "208/208 [==============================] - 0s 515us/step - loss: 0.0132 - acc: 0.9952 - val_loss: 0.5008 - val_acc: 0.8556\n",
            "\n",
            "Epoch 00097: val_loss did not improve from 0.34843\n",
            "Epoch 98/100\n",
            "208/208 [==============================] - 0s 503us/step - loss: 0.0104 - acc: 0.9952 - val_loss: 0.4215 - val_acc: 0.8667\n",
            "\n",
            "Epoch 00098: val_loss did not improve from 0.34843\n",
            "Epoch 99/100\n",
            "208/208 [==============================] - 0s 503us/step - loss: 0.0077 - acc: 0.9952 - val_loss: 0.3899 - val_acc: 0.8889\n",
            "\n",
            "Epoch 00099: val_loss did not improve from 0.34843\n",
            "Epoch 100/100\n",
            "208/208 [==============================] - 0s 514us/step - loss: 0.0036 - acc: 1.0000 - val_loss: 0.3935 - val_acc: 0.8889\n",
            "\n",
            "Epoch 00100: val_loss did not improve from 0.34843\n"
          ],
          "name": "stdout"
        },
        {
          "output_type": "execute_result",
          "data": {
            "text/plain": [
              "<keras.callbacks.History at 0x7f75522d8dd8>"
            ]
          },
          "metadata": {
            "tags": []
          },
          "execution_count": 37
        }
      ]
    },
    {
      "cell_type": "code",
      "metadata": {
        "id": "WePxRfKUge2V",
        "colab_type": "code",
        "colab": {}
      },
      "source": [
        "model.load_weights(\"weights.best.hdf5\")"
      ],
      "execution_count": 0,
      "outputs": []
    },
    {
      "cell_type": "code",
      "metadata": {
        "id": "T164Ztx1gita",
        "colab_type": "code",
        "colab": {}
      },
      "source": [
        "model.compile(loss='categorical_crossentropy', optimizer='adam', metrics=['accuracy'])"
      ],
      "execution_count": 0,
      "outputs": []
    }
  ]
}